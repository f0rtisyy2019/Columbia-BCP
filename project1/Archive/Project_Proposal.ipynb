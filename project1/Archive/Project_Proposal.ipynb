{
 "cells": [
  {
   "cell_type": "markdown",
   "metadata": {},
   "source": [
    "# # MTA Property Impact"
   ]
  },
  {
   "cell_type": "markdown",
   "metadata": {},
   "source": [
    "## Project Description\n",
    "Determine the impact of subway transportation on housing/apartment prices based on proximity to subway station.\n"
   ]
  },
  {
   "cell_type": "markdown",
   "metadata": {},
   "source": [
    "## Questions\n",
    "Does location to subway affect home value?\n",
    "\n",
    "Do certain line correlate with higher average home prices?\n",
    "\n",
    "Are certain sized apts affected differently by Subway prozximity? (Group By: Apt Square footage, Bathrooms, Bedrooms. etc)\n",
    "\n"
   ]
  },
  {
   "cell_type": "markdown",
   "metadata": {},
   "source": [
    "## Datasets\n",
    "MTA Station Location Data:\n",
    "\n",
    "This will be used to pull CSV file that includes all Subway Station Locations in NYC \n",
    "\n",
    "URL Location: http://web.mta.info/developers/data/nyct/subway/Stations.csv\n",
    "\n",
    "Zillow API:\n",
    "\n",
    "This will be used to pull pricing data, location data, property stats (ie: Home Sizes, Bedrooms, Bathrooms, etc.)\n",
    "\n",
    "Google Location API Feed:\n",
    "\n",
    "THis will be used to create heat maps based on Lat Longs from the Zillow API.\n"
   ]
  },
  {
   "cell_type": "markdown",
   "metadata": {},
   "source": [
    "## Breakdown\n",
    "\n",
    "Data will be pulled by all team members for initiatl exploritory data breakdown/understanding\n",
    "\n",
    "Data will be grouped by Home Type (House, Apt, Condo)\n",
    "\n",
    "Current Data Set Time Frame will be referencing data for 2018 \n",
    "\n",
    "Data Vizualizations:\n",
    "TBD"
   ]
  }
 ],
 "metadata": {
  "kernelspec": {
   "display_name": "Python 3",
   "language": "python",
   "name": "python3"
  },
  "language_info": {
   "codemirror_mode": {
    "name": "ipython",
    "version": 3
   },
   "file_extension": ".py",
   "mimetype": "text/x-python",
   "name": "python",
   "nbconvert_exporter": "python",
   "pygments_lexer": "ipython3",
   "version": "3.7.1"
  }
 },
 "nbformat": 4,
 "nbformat_minor": 2
}
