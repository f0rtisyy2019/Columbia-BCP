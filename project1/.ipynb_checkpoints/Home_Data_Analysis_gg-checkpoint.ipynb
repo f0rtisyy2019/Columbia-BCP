{
 "cells": [
  {
   "cell_type": "code",
   "execution_count": 1,
   "metadata": {},
   "outputs": [],
   "source": [
    "import matplotlib.pyplot as plt\n",
    "import pandas as pd\n",
    "import numpy as np\n",
    "import gmaps\n",
    "from config import gkey\n",
    "gmaps.configure(api_key=gkey)\n"
   ]
  },
  {
   "cell_type": "code",
   "execution_count": 2,
   "metadata": {},
   "outputs": [],
   "source": [
    "mta = pd.read_csv(\"Resources/mta_station.csv\")\n",
    "df = pd.read_csv(\"Resources/final_house_data.csv\")\n",
    "df = df[df['distance_miles']<0.15]\n",
    "df['price'] = df['price']/1000000\n"
   ]
  },
  {
   "cell_type": "code",
   "execution_count": 3,
   "metadata": {},
   "outputs": [
    {
     "data": {
      "image/png": "[encoded data removed]",
      "text/plain": [
       "<Figure size 432x288 with 1 Axes>"
      ]
     },
     "metadata": {
      "needs_background": "light"
     },
     "output_type": "display_data"
    }
   ],
   "source": [
    "avg_price_per_station = df.groupby('Nearest Station Index')['price'].mean().plot()\n",
    "avg_price_per_station.set_title(\"Average home price around stations(r=0.15mi)\")\n",
    "avg_price_per_station.set_xlabel(\"Station index\")\n",
    "avg_price_per_station.set_ylabel(\"Price (M$)\")\n",
    "avg_price_per_station.grid()\n"
   ]
  },
  {
   "cell_type": "code",
   "execution_count": null,
   "metadata": {},
   "outputs": [],
   "source": []
  },
  {
   "cell_type": "code",
   "execution_count": null,
   "metadata": {},
   "outputs": [],
   "source": []
  },
  {
   "cell_type": "code",
   "execution_count": 4,
   "metadata": {},
   "outputs": [
    {
     "data": {
      "text/plain": [
       "array([2, 3, 4, 1])"
      ]
     },
     "execution_count": 4,
     "metadata": {},
     "output_type": "execute_result"
    }
   ],
   "source": [
    "from operator import methodcaller\n",
    "mta['line'] = list(map(methodcaller(\"split\", \" \"), mta[\"Daytime Routes\"]))\n",
    "mta['line count'] =  list(map(len, mta[\"line\"]))\n",
    "mta['line count'].unique()\n"
   ]
  },
  {
   "cell_type": "code",
   "execution_count": 5,
   "metadata": {},
   "outputs": [],
   "source": [
    "from scipy.spatial import distance\n",
    "\n",
    "matr = distance.cdist(\n",
    "        mta[['GTFS Latitude', 'GTFS Longitude']],\n",
    "        mta[['GTFS Latitude', 'GTFS Longitude']],\n",
    "        metric = 'euclidean')\n",
    "distance_df = pd.DataFrame(matr, index=mta['Unnamed: 0'], columns=mta['Unnamed: 0'])\n",
    "arr = distance_df.values\n",
    "mta['same Index']  = [list(i).index(np.min(i[np.nonzero(i)])) for i in arr]\n",
    "\n",
    "from math import sin, cos, sqrt, atan2, radians\n",
    "\n",
    "def convert_latlon(row):\n",
    "    R = 6373.0\n",
    "    \n",
    "    stoplat = radians(row['GTFS Latitude'])\n",
    "    stoplon = radians(row['GTFS Longitude'])\n",
    "    \n",
    "    homelat = radians(mta.loc[row['same Index'], 'GTFS Latitude'])\n",
    "    homelon = radians(mta.loc[row['same Index'], 'GTFS Longitude'])\n",
    "    \n",
    "    dlon = homelon - stoplon\n",
    "    dlat = homelat - stoplat\n",
    "    \n",
    "    a = sin(dlat / 2)**2 + cos(stoplat) * cos(homelat) * sin(dlon / 2)**2\n",
    "    c = 2 * atan2(sqrt(a), sqrt(1 - a))\n",
    "    \n",
    "    distance_km = R * c\n",
    "    distance_m = distance_km * 0.621371\n",
    "    \n",
    "    return distance_m\n",
    "\n",
    "mta['near_station_miles'] = mta.apply(convert_latlon, axis=1)\n"
   ]
  },
  {
   "cell_type": "code",
   "execution_count": 6,
   "metadata": {},
   "outputs": [
    {
     "data": {
      "text/plain": [
       "count    497.000000\n",
       "mean       0.299588\n",
       "std        0.176442\n",
       "min        0.010655\n",
       "25%        0.172233\n",
       "50%        0.306660\n",
       "75%        0.395609\n",
       "max        1.411450\n",
       "Name: near_station_miles, dtype: float64"
      ]
     },
     "execution_count": 6,
     "metadata": {},
     "output_type": "execute_result"
    }
   ],
   "source": [
    "mta['near_station_miles'].describe()\n"
   ]
  },
  {
   "cell_type": "code",
   "execution_count": 7,
   "metadata": {},
   "outputs": [
    {
     "data": {
      "text/plain": [
       "91"
      ]
     },
     "execution_count": 7,
     "metadata": {},
     "output_type": "execute_result"
    }
   ],
   "source": [
    "len(mta[mta['near_station_miles'] < 0.125])\n"
   ]
  },
  {
   "cell_type": "code",
   "execution_count": 8,
   "metadata": {},
   "outputs": [
    {
     "name": "stdout",
     "output_type": "stream",
     "text": [
      "0 1.327393\n",
      "1 1.0904998750000001\n",
      "2 0.6300865\n",
      "3 1.2518203333333333\n",
      "4 1.651735\n",
      "5 1.692724375\n",
      "6 1.2576947222222226\n",
      "7 25.933803\n",
      "8 2.190692142857143\n",
      "9 0.670736\n",
      "11 0.7228390909090909\n",
      "12 1.6129733333333334\n",
      "13 9.396941210526318\n",
      "14 1.8535453333333336\n",
      "15 3.3121313999999997\n",
      "16 2.644962307692308\n",
      "17 3.6179373333333333\n",
      "19 5.579510777777779\n",
      "20 2.253448\n",
      "21 1.9816726000000002\n",
      "22 6.374255\n",
      "23 0.8671361034482756\n",
      "24 0.832296\n",
      "25 0.76622375\n",
      "26 1.143633\n",
      "27 0.9465301428571429\n",
      "28 1.2037319629629633\n",
      "29 0.7993601\n",
      "30 0.9526154166666666\n",
      "31 1.3648097391304348\n",
      "32 0.934294\n",
      "33 0.8328925\n",
      "34 1.2832484285714287\n",
      "35 0.5401184444444445\n",
      "36 0.3435362857142857\n",
      "37 0.8265880000000001\n",
      "38 0.70413\n",
      "39 1.8315893333333333\n",
      "40 1.8937412238805977\n",
      "41 1.1902359999999998\n",
      "42 1.1090870000000002\n",
      "43 1.03392825\n",
      "44 1.134835\n",
      "45 1.4745834\n",
      "46 1.1209581428571431\n",
      "47 1.250900466666667\n",
      "48 1.1221396666666665\n",
      "49 0.8405905\n",
      "51 0.6885725555555557\n",
      "53 0.3423232916666667\n",
      "54 0.434712\n",
      "55 0.5816641111111109\n",
      "56 0.4171186666666667\n",
      "57 0.577983\n",
      "59 1.137018\n",
      "62 1.213713\n",
      "63 1.0321846250000002\n",
      "66 1.3973197272727276\n",
      "67 0.7600702647058823\n",
      "68 1.0758246249999999\n",
      "69 0.636768\n",
      "71 1.3244769615384617\n",
      "72 1.12011725\n",
      "73 1.29761325\n",
      "74 1.107941\n",
      "75 0.8595625714285713\n",
      "76 0.8734274999999999\n",
      "77 0.9156771818181819\n",
      "79 0.8252411875\n",
      "80 0.7039487500000001\n",
      "81 0.8031553076923076\n",
      "82 0.8035766923076922\n",
      "83 0.6872943636363638\n",
      "84 0.6576\n",
      "85 0.691146\n",
      "87 0.723237\n",
      "88 0.825768\n",
      "89 0.613205\n",
      "91 0.41126850000000004\n",
      "92 1.0435824\n",
      "93 1.0586734\n",
      "94 1.1362164\n",
      "95 0.9988335\n",
      "96 1.004308\n",
      "98 1.512845\n",
      "99 1.5793904761904762\n",
      "100 1.365564\n",
      "101 0.6808153571428571\n",
      "102 3.9496648000000008\n",
      "103 1.413639\n",
      "104 1.228752\n",
      "105 1.8856635185185184\n",
      "106 1.7585732636363627\n",
      "108 0.494352\n",
      "109 0.9152698888888889\n",
      "110 0.5757857\n",
      "111 0.982488111111111\n",
      "112 0.8987780000000001\n",
      "114 2.0225205862068973\n",
      "115 1.74585445\n",
      "116 3.1015125\n",
      "117 0.8700058684210527\n",
      "118 1.227034977272727\n",
      "119 1.3747644999999997\n",
      "120 1.5153070000000002\n",
      "121 1.3524931111111111\n",
      "122 1.040106\n",
      "123 0.45723839999999993\n",
      "124 0.5613508\n",
      "126 1.286611\n",
      "127 0.6021517586206895\n",
      "128 0.9660198333333333\n",
      "130 0.5007577272727274\n",
      "132 0.849704\n",
      "135 0.6402898888888888\n",
      "138 1.266859692307692\n",
      "139 1.9102962222222222\n",
      "140 1.0837476666666668\n",
      "141 0.7040069\n",
      "143 0.48235543478260867\n",
      "144 0.5657139393939393\n",
      "145 0.5964921590909089\n",
      "146 0.9316600909090907\n",
      "147 0.661355\n",
      "148 3.4097977999999998\n",
      "149 1.03149565\n",
      "152 1.030215076923077\n",
      "153 1.3387190454545455\n",
      "154 0.9993167391304345\n",
      "155 0.9051575769230769\n",
      "156 1.0626763750000003\n",
      "157 1.8283137111111112\n",
      "158 0.7724715\n",
      "159 1.8272625714285715\n",
      "160 11.837046909090908\n",
      "161 0.7370076\n",
      "162 1.0585108695652174\n",
      "163 1.665624222222222\n",
      "164 2.1613703846153847\n",
      "165 1.7323460833333335\n",
      "166 1.18293475\n",
      "168 1.9285477499999997\n",
      "169 4.225527705882353\n",
      "170 3.843279516129032\n",
      "171 1.0028845\n",
      "172 1.6275506\n",
      "173 1.5007190000000001\n",
      "175 1.4285108333333332\n",
      "176 2.3193960000000002\n",
      "177 1.1570827499999998\n",
      "178 1.147164\n",
      "179 0.7422465\n",
      "181 0.8353875\n",
      "182 0.8852884\n",
      "184 0.8954406249999999\n",
      "186 0.7041675000000001\n",
      "188 0.6705043333333333\n",
      "189 0.605833\n",
      "194 0.63576\n",
      "195 0.525678\n",
      "198 0.42204125000000003\n",
      "199 0.3856457142857143\n",
      "202 0.6470121052631579\n",
      "204 0.4859748\n",
      "206 0.5902797777777777\n",
      "207 0.550076\n",
      "208 0.5549212916666665\n",
      "209 0.4475876\n",
      "211 0.467165\n",
      "212 0.20239500000000002\n",
      "213 0.24142511111111112\n",
      "214 0.185732\n",
      "215 0.646472\n",
      "216 0.5395679583333333\n",
      "217 0.22534387499999997\n",
      "219 0.22135890000000003\n",
      "220 0.327644\n",
      "221 0.625227\n",
      "222 0.689599\n",
      "224 2.7821452857142863\n",
      "225 1.4848766249999998\n",
      "226 0.43708325\n",
      "227 0.70221\n",
      "228 0.7955588333333333\n",
      "229 0.9669215\n",
      "230 3.3849136666666673\n",
      "231 1.428099\n",
      "232 0.9018260999999999\n",
      "233 0.599859\n",
      "234 1.974292166666667\n",
      "235 1.6838989318181812\n",
      "236 1.6268360689655175\n",
      "237 1.367141\n",
      "238 2.2479453846153845\n",
      "240 1.3466439999999997\n",
      "241 1.8982680571428565\n",
      "242 1.495377666666667\n",
      "243 1.25230975\n",
      "244 1.3425885999999998\n",
      "245 1.1539295\n",
      "246 1.718153\n",
      "248 0.8007118\n",
      "249 0.849897\n",
      "252 0.69714175\n",
      "256 0.2990116499999999\n",
      "260 0.449816\n",
      "261 1.0898109000000002\n",
      "262 0.7700516666666667\n",
      "263 0.45681365517241374\n",
      "264 1.0737299333333332\n",
      "265 0.5362651785714286\n",
      "266 0.4242203333333333\n",
      "267 0.5522651538461538\n",
      "269 1.0424363684210527\n",
      "270 0.9089290000000001\n",
      "272 1.753558\n",
      "273 1.356362\n",
      "274 0.641982111111111\n",
      "275 1.2315313571428572\n",
      "276 1.1907504761904764\n",
      "278 1.2110483333333333\n",
      "280 0.307948\n",
      "282 0.626865\n",
      "283 1.168855\n",
      "284 1.4979214166666666\n",
      "285 0.9978892857142858\n",
      "286 1.730316\n",
      "287 0.646247714285714\n",
      "288 1.0592696\n",
      "289 0.5765710000000001\n",
      "290 0.87784575\n",
      "291 1.8325476153846159\n",
      "292 2.069289736842105\n",
      "293 1.6612413846153846\n",
      "295 0.4270406666666666\n",
      "297 0.203826\n",
      "298 1.86546655\n",
      "300 0.526873\n",
      "301 0.5553597000000001\n",
      "302 0.5781531333333333\n",
      "303 0.601364\n",
      "304 0.6055081600000002\n",
      "305 0.668692\n",
      "306 1.1578890625000005\n",
      "307 0.681737\n",
      "308 1.023644\n",
      "310 1.2681334857142859\n",
      "311 1.3826680555555553\n",
      "312 0.6766430000000001\n",
      "313 2.0792436216216212\n",
      "314 2.1836442380952383\n",
      "315 2.1840535000000005\n",
      "316 7.662374206896552\n",
      "317 0.813724\n",
      "318 1.193072\n",
      "319 0.8756010000000001\n",
      "320 2.2101461\n",
      "321 1.5751191739130432\n",
      "322 3.638523\n",
      "323 2.0121713999999997\n",
      "324 5.2716780000000005\n",
      "325 2.495901000000001\n",
      "326 1.5381965\n",
      "327 2.7257135172413776\n",
      "328 5.2366781739130435\n",
      "330 0.919394888888889\n",
      "331 0.184181\n",
      "332 4.588120333333333\n",
      "333 1.4117010535714285\n",
      "334 1.2665914347826086\n",
      "335 0.8780668484848484\n",
      "336 2.615273785714286\n",
      "337 0.8063324999999999\n",
      "338 0.7105653461538464\n",
      "340 2.115982666666667\n",
      "341 1.5920618000000002\n",
      "342 0.7541049230769231\n",
      "343 0.52989\n",
      "345 0.9170646666666666\n",
      "346 0.9300980999999998\n",
      "348 0.752438\n",
      "349 0.44218075\n",
      "351 0.6850023333333333\n",
      "352 0.7070730000000001\n",
      "354 0.9488356666666666\n",
      "355 0.870196\n",
      "356 1.0428442\n",
      "357 0.69552525\n",
      "359 0.3715401666666668\n",
      "360 0.44833300000000004\n",
      "361 0.864091\n",
      "362 0.4978634999999999\n",
      "363 0.6481300000000001\n",
      "364 0.7557929999999999\n",
      "365 0.18733850000000002\n",
      "368 0.6972434999999999\n",
      "369 0.36564800000000003\n",
      "373 0.52936\n",
      "374 0.6398686538461539\n",
      "375 0.509232\n",
      "376 0.2438695\n",
      "377 0.2688296\n",
      "378 0.2799313333333333\n",
      "380 0.189083\n",
      "382 0.5905355\n",
      "383 0.5546146666666667\n",
      "385 0.6444991818181819\n",
      "386 0.47502449999999996\n",
      "387 0.26493166666666673\n",
      "389 0.38884257142857137\n",
      "392 0.139145\n",
      "393 1.5338901428571428\n",
      "394 0.7310837999999997\n",
      "395 0.6839123333333333\n",
      "396 0.8852942999999998\n",
      "397 0.7594368653846154\n",
      "398 0.7982024999999999\n",
      "399 3.077269875\n",
      "400 3.504062875\n",
      "402 0.786333\n",
      "404 0.7953269166666667\n",
      "405 3.9030922499999994\n",
      "406 1.5889078695652175\n",
      "408 2.8493920454545445\n",
      "409 1.6591467407407408\n",
      "410 1.2393616250000001\n",
      "411 3.208872318181818\n",
      "412 4.307396583333333\n",
      "413 1.962932\n",
      "414 1.283483\n",
      "415 0.94383975\n",
      "416 0.7809162666666667\n",
      "417 0.5732964999999999\n",
      "420 0.3188\n",
      "421 0.5779555999999999\n",
      "422 0.25215\n",
      "424 0.5029478\n",
      "426 0.637941\n",
      "429 0.781744\n",
      "430 0.436061\n",
      "431 0.49211675\n",
      "432 0.6555342\n",
      "433 0.37514077777777777\n",
      "434 0.48859450000000004\n",
      "437 0.8763689000000005\n",
      "438 0.38986935714285714\n",
      "439 0.4121001875\n",
      "440 0.7801998333333332\n",
      "441 1.2564650740740742\n",
      "442 0.7914965\n",
      "444 0.5601163809523813\n",
      "445 0.38770699999999997\n",
      "446 0.17159483333333334\n",
      "447 0.603457\n",
      "448 0.9304435\n",
      "450 1.2789613999999998\n",
      "451 1.0914286666666666\n",
      "452 0.9795247999999999\n",
      "454 0.5933418461538461\n",
      "456 0.9148227999999999\n",
      "457 0.638915\n",
      "459 0.606992\n",
      "460 0.8600856666666666\n",
      "462 0.8086066666666666\n",
      "464 2.0639714\n",
      "466 1.065694375\n",
      "469 0.58088\n",
      "474 0.7392835833333334\n",
      "475 1.3597907999999999\n",
      "477 0.4884725\n",
      "479 0.6193094374999999\n",
      "480 0.668616\n",
      "481 0.7193632857142858\n",
      "482 0.528368894736842\n",
      "485 0.597334\n",
      "486 0.691369\n",
      "487 0.575115\n",
      "489 0.5894868000000001\n",
      "490 0.5978003333333334\n",
      "491 0.998977\n",
      "492 0.9509226363636363\n",
      "493 0.7984283333333334\n",
      "496 0.538195\n"
     ]
    }
   ],
   "source": [
    "station = df.groupby('Nearest Station Index')['price'].mean()\n",
    "for key, val in station.iteritems():\n",
    "    print(key, val)"
   ]
  },
  {
   "cell_type": "code",
   "execution_count": 9,
   "metadata": {},
   "outputs": [
    {
     "data": {
      "application/vnd.jupyter.widget-view+json": {
       "model_id": "5fdb2b3384934af190d62b490eb919c3",
       "version_major": 2,
       "version_minor": 0
      },
      "text/plain": [
       "Figure(layout=FigureLayout(height='420px'))"
      ]
     },
     "metadata": {},
     "output_type": "display_data"
    }
   ],
   "source": [
    "# Store latitude and longitude in locations\n",
    "rating = df.groupby('Nearest Station Index')['price'].mean()\n",
    "\n",
    "locations = []\n",
    "for key,val in rating.iteritems():\n",
    "    locations.append([mta.loc[key,'GTFS Latitude'], mta.loc[key, 'GTFS Longitude']])\n",
    "\n",
    "# Plot Heatmap\n",
    "fig = gmaps.figure()\n",
    "\n",
    "# Create heat layer\n",
    "heat_layer = gmaps.heatmap_layer(locations, weights=rating, \n",
    "                                 dissipating=False, max_intensity=25,\n",
    "                                 point_radius=0.01)\n",
    "\n",
    "# Add layer\n",
    "fig.add_layer(heat_layer)\n",
    "\n",
    "# Display figure\n",
    "fig\n",
    "\n",
    "\n",
    "\n"
   ]
  },
  {
   "cell_type": "code",
   "execution_count": 10,
   "metadata": {},
   "outputs": [
    {
     "name": "stderr",
     "output_type": "stream",
     "text": [
      "/Applications/anaconda3/lib/python3.7/site-packages/ipykernel_launcher.py:2: SettingWithCopyWarning: \n",
      "A value is trying to be set on a copy of a slice from a DataFrame.\n",
      "Try using .loc[row_indexer,col_indexer] = value instead\n",
      "\n",
      "See the caveats in the documentation: http://pandas.pydata.org/pandas-docs/stable/indexing.html#indexing-view-versus-copy\n",
      "  \n"
     ]
    },
    {
     "data": {
      "image/png": "[encoded data removed]",
      "text/plain": [
       "<Figure size 432x288 with 1 Axes>"
      ]
     },
     "metadata": {
      "needs_background": "light"
     },
     "output_type": "display_data"
    }
   ],
   "source": [
    "M_df = df[(df['lotSizeSqFt'] != 0) & (df['Borough'] == \"M\")]\n",
    "M_df['price per sqft'] = M_df['price'] / M_df['lotSizeSqFt']\n",
    "# df = df[df['price per sqft'] < 6000]\n",
    "plt.scatter(M_df['latitude'], M_df['price per sqft'])\n",
    "\n",
    "# z = np.polyfit(M_df['latitude'], M_df['price per sqft'], 3)\n",
    "# p = np.poly1d(z)\n",
    "# plt.plot(M_df['latitude'],p(M_df['latitude']),\"r--\")\n",
    "\n",
    "plt.show()"
   ]
  },
  {
   "cell_type": "code",
   "execution_count": 11,
   "metadata": {},
   "outputs": [
    {
     "data": {
      "image/png": "[encoded data removed]",
      "text/plain": [
       "<Figure size 432x288 with 1 Axes>"
      ]
     },
     "metadata": {
      "needs_background": "light"
     },
     "output_type": "display_data"
    }
   ],
   "source": [
    "plt.scatter(M_df['longitude'], M_df['price'])\n",
    "plt.show()"
   ]
  },
  {
   "cell_type": "code",
   "execution_count": 12,
   "metadata": {},
   "outputs": [],
   "source": [
    "borough_gp = df.groupby('Borough')"
   ]
  },
  {
   "cell_type": "code",
   "execution_count": 13,
   "metadata": {},
   "outputs": [
    {
     "data": {
      "text/plain": [
       "Borough\n",
       "Bk    1320\n",
       "Bx     321\n",
       "M     2411\n",
       "Q      495\n",
       "SI      96\n",
       "Name: price, dtype: int64"
      ]
     },
     "execution_count": 13,
     "metadata": {},
     "output_type": "execute_result"
    }
   ],
   "source": [
    "price_by_borough = borough_gp['price'].count()\n",
    "price_by_borough\n"
   ]
  },
  {
   "cell_type": "code",
   "execution_count": 14,
   "metadata": {},
   "outputs": [
    {
     "data": {
      "image/png": "[encoded data removed]",
      "text/plain": [
       "<Figure size 720x576 with 1 Axes>"
      ]
     },
     "metadata": {
      "needs_background": "light"
     },
     "output_type": "display_data"
    }
   ],
   "source": [
    "fig, ax = plt.subplots(figsize=(10,8))\n",
    "plt.suptitle('xxx')\n",
    "ax = df.boxplot(column=['price'], by='Borough', ax=ax)\n"
   ]
  },
  {
   "cell_type": "code",
   "execution_count": 15,
   "metadata": {},
   "outputs": [
    {
     "data": {
      "image/png": "[encoded data removed]",
      "text/plain": [
       "<Figure size 720x720 with 1 Axes>"
      ]
     },
     "metadata": {},
     "output_type": "display_data"
    }
   ],
   "source": [
    "ax = df.groupby('usecode')['price'].count().sort_values(ascending=False).plot(kind='pie', title =\"Home Tpye\", figsize=(10, 10), legend=False, fontsize=8)\n",
    "plt.show()\n"
   ]
  },
  {
   "cell_type": "code",
   "execution_count": 16,
   "metadata": {},
   "outputs": [
    {
     "data": {
      "image/png": "[encoded data removed]",
      "text/plain": [
       "<Figure size 2160x432 with 1 Axes>"
      ]
     },
     "metadata": {
      "needs_background": "light"
     },
     "output_type": "display_data"
    }
   ],
   "source": [
    "ax = df.groupby(['Borough', 'usecode'])['price'].count().sort_values(ascending=False).plot(kind='bar', title =\"Home Tpye\", figsize=(30, 6), legend=False, fontsize=12)\n",
    "ax.set_xlabel(\"Type\", fontsize=12)\n",
    "ax.set_ylabel(\"Amount\", fontsize=12)\n",
    "plt.show()\n"
   ]
  },
  {
   "cell_type": "code",
   "execution_count": 17,
   "metadata": {},
   "outputs": [
    {
     "data": {
      "text/plain": [
       "count    4643.000000\n",
       "mean        0.082406\n",
       "std         0.040577\n",
       "min         0.000125\n",
       "25%         0.046222\n",
       "50%         0.085848\n",
       "75%         0.117676\n",
       "max         0.149906\n",
       "Name: distance_miles, dtype: float64"
      ]
     },
     "execution_count": 17,
     "metadata": {},
     "output_type": "execute_result"
    }
   ],
   "source": [
    "df['distance_miles'].describe()"
   ]
  },
  {
   "cell_type": "code",
   "execution_count": 18,
   "metadata": {},
   "outputs": [
    {
     "data": {
      "text/plain": [
       "4643"
      ]
     },
     "execution_count": 18,
     "metadata": {},
     "output_type": "execute_result"
    }
   ],
   "source": [
    "len(df)\n"
   ]
  },
  {
   "cell_type": "code",
   "execution_count": 19,
   "metadata": {},
   "outputs": [
    {
     "data": {
      "image/png": "[encoded data removed]",
      "text/plain": [
       "<Figure size 432x288 with 1 Axes>"
      ]
     },
     "metadata": {
      "needs_background": "light"
     },
     "output_type": "display_data"
    }
   ],
   "source": [
    "plt.scatter(df['distance_miles'], df['price'])\n",
    "plt.show()"
   ]
  },
  {
   "cell_type": "code",
   "execution_count": 20,
   "metadata": {},
   "outputs": [
    {
     "data": {
      "text/plain": [
       "Borough  usecode        \n",
       "Bk       Apartment            6\n",
       "         Condominium        182\n",
       "         Cooperative        117\n",
       "         Duplex             116\n",
       "         Miscellaneous        1\n",
       "         MultiFamily2To4    520\n",
       "         Quadruplex          53\n",
       "         SingleFamily       120\n",
       "         Townhouse           35\n",
       "         Triplex             97\n",
       "         Unknown             73\n",
       "Bx       Condominium         12\n",
       "         Cooperative         14\n",
       "         Duplex              75\n",
       "         Mobile               1\n",
       "         MultiFamily2To4     94\n",
       "         Quadruplex           3\n",
       "         SingleFamily        49\n",
       "         Townhouse            4\n",
       "         Triplex             29\n",
       "         Unknown             40\n",
       "M        Apartment            9\n",
       "         Condominium        718\n",
       "         Cooperative        429\n",
       "         Duplex              11\n",
       "         Miscellaneous        2\n",
       "         MultiFamily2To4    969\n",
       "         Quadruplex           7\n",
       "         SingleFamily        72\n",
       "         Townhouse           27\n",
       "         Triplex              9\n",
       "         Unknown            158\n",
       "Q        Condominium         68\n",
       "         Cooperative         38\n",
       "         Duplex              84\n",
       "         Miscellaneous        1\n",
       "         Mobile               2\n",
       "         MultiFamily2To4    148\n",
       "         Quadruplex           3\n",
       "         SingleFamily        70\n",
       "         Townhouse           11\n",
       "         Triplex             24\n",
       "         Unknown             46\n",
       "SI       Condominium          2\n",
       "         Cooperative          1\n",
       "         Duplex              21\n",
       "         MultiFamily2To4      7\n",
       "         SingleFamily        61\n",
       "         Unknown              4\n",
       "Name: price, dtype: int64"
      ]
     },
     "execution_count": 20,
     "metadata": {},
     "output_type": "execute_result"
    }
   ],
   "source": [
    "borough_house_type_gp = df.groupby(['Borough', 'usecode'])\n",
    "borough_house_type_gp['price'].count()\n"
   ]
  },
  {
   "cell_type": "code",
   "execution_count": 21,
   "metadata": {},
   "outputs": [
    {
     "name": "stderr",
     "output_type": "stream",
     "text": [
      "/Applications/anaconda3/lib/python3.7/site-packages/ipykernel_launcher.py:2: SettingWithCopyWarning: \n",
      "A value is trying to be set on a copy of a slice from a DataFrame.\n",
      "Try using .loc[row_indexer,col_indexer] = value instead\n",
      "\n",
      "See the caveats in the documentation: http://pandas.pydata.org/pandas-docs/stable/indexing.html#indexing-view-versus-copy\n",
      "  \n"
     ]
    }
   ],
   "source": [
    "df = df[df['lotSizeSqFt'] != 0]\n",
    "df['price per sqft'] = df['price'] / df['lotSizeSqFt']\n",
    "df = df[df['price per sqft'] < 6000]"
   ]
  },
  {
   "cell_type": "code",
   "execution_count": 22,
   "metadata": {},
   "outputs": [
    {
     "data": {
      "text/plain": [
       "<matplotlib.collections.PathCollection at 0x61c7ac438>"
      ]
     },
     "execution_count": 22,
     "metadata": {},
     "output_type": "execute_result"
    },
    {
     "data": {
      "image/png": "[encoded data removed]",
      "text/plain": [
       "<Figure size 432x288 with 1 Axes>"
      ]
     },
     "metadata": {
      "needs_background": "light"
     },
     "output_type": "display_data"
    }
   ],
   "source": [
    "df.head()\n",
    "plt.scatter(df['distance_miles'], df['price per sqft'])"
   ]
  },
  {
   "cell_type": "code",
   "execution_count": 23,
   "metadata": {},
   "outputs": [
    {
     "data": {
      "text/plain": [
       "(1903, 16)"
      ]
     },
     "execution_count": 23,
     "metadata": {},
     "output_type": "execute_result"
    }
   ],
   "source": [
    "df.shape"
   ]
  },
  {
   "cell_type": "code",
   "execution_count": 24,
   "metadata": {},
   "outputs": [
    {
     "name": "stdout",
     "output_type": "stream",
     "text": [
      "(87, 16)\n"
     ]
    },
    {
     "data": {
      "text/html": [
       "<div>\n",
       "<style scoped>\n",
       "    .dataframe tbody tr th:only-of-type {\n",
       "        vertical-align: middle;\n",
       "    }\n",
       "\n",
       "    .dataframe tbody tr th {\n",
       "        vertical-align: top;\n",
       "    }\n",
       "\n",
       "    .dataframe thead th {\n",
       "        text-align: right;\n",
       "    }\n",
       "</style>\n",
       "<table border=\"1\" class=\"dataframe\">\n",
       "  <thead>\n",
       "    <tr style=\"text-align: right;\">\n",
       "      <th></th>\n",
       "      <th>Unnamed: 0</th>\n",
       "      <th>zpid</th>\n",
       "      <th>latitude</th>\n",
       "      <th>longitude</th>\n",
       "      <th>usecode</th>\n",
       "      <th>bathrooms</th>\n",
       "      <th>bedrooms</th>\n",
       "      <th>zipcode</th>\n",
       "      <th>price</th>\n",
       "      <th>lotSizeSqFt</th>\n",
       "      <th>Nearest Station Index</th>\n",
       "      <th>Nearest Station Lat</th>\n",
       "      <th>Nearest Station Lon</th>\n",
       "      <th>Borough</th>\n",
       "      <th>distance_miles</th>\n",
       "      <th>price per sqft</th>\n",
       "    </tr>\n",
       "  </thead>\n",
       "  <tbody>\n",
       "    <tr>\n",
       "      <th>2944</th>\n",
       "      <td>4946</td>\n",
       "      <td>32324455</td>\n",
       "      <td>40.596302</td>\n",
       "      <td>-74.089586</td>\n",
       "      <td>SingleFamily</td>\n",
       "      <td>0.0</td>\n",
       "      <td>0</td>\n",
       "      <td>10304</td>\n",
       "      <td>0.844092</td>\n",
       "      <td>9800</td>\n",
       "      <td>481</td>\n",
       "      <td>40.596612</td>\n",
       "      <td>-74.087368</td>\n",
       "      <td>SI</td>\n",
       "      <td>0.118356</td>\n",
       "      <td>0.000086</td>\n",
       "    </tr>\n",
       "    <tr>\n",
       "      <th>2945</th>\n",
       "      <td>4947</td>\n",
       "      <td>32324506</td>\n",
       "      <td>40.596277</td>\n",
       "      <td>-74.088480</td>\n",
       "      <td>SingleFamily</td>\n",
       "      <td>0.0</td>\n",
       "      <td>0</td>\n",
       "      <td>10304</td>\n",
       "      <td>0.628001</td>\n",
       "      <td>5999</td>\n",
       "      <td>481</td>\n",
       "      <td>40.596612</td>\n",
       "      <td>-74.087368</td>\n",
       "      <td>SI</td>\n",
       "      <td>0.062783</td>\n",
       "      <td>0.000105</td>\n",
       "    </tr>\n",
       "    <tr>\n",
       "      <th>2946</th>\n",
       "      <td>4948</td>\n",
       "      <td>32324507</td>\n",
       "      <td>40.596303</td>\n",
       "      <td>-74.089009</td>\n",
       "      <td>SingleFamily</td>\n",
       "      <td>0.0</td>\n",
       "      <td>0</td>\n",
       "      <td>10304</td>\n",
       "      <td>0.765448</td>\n",
       "      <td>8400</td>\n",
       "      <td>481</td>\n",
       "      <td>40.596612</td>\n",
       "      <td>-74.087368</td>\n",
       "      <td>SI</td>\n",
       "      <td>0.088728</td>\n",
       "      <td>0.000091</td>\n",
       "    </tr>\n",
       "    <tr>\n",
       "      <th>3087</th>\n",
       "      <td>5121</td>\n",
       "      <td>32354518</td>\n",
       "      <td>40.545262</td>\n",
       "      <td>-74.164127</td>\n",
       "      <td>SingleFamily</td>\n",
       "      <td>2.0</td>\n",
       "      <td>3</td>\n",
       "      <td>10312</td>\n",
       "      <td>0.550732</td>\n",
       "      <td>6000</td>\n",
       "      <td>489</td>\n",
       "      <td>40.544601</td>\n",
       "      <td>-74.164570</td>\n",
       "      <td>SI</td>\n",
       "      <td>0.051268</td>\n",
       "      <td>0.000092</td>\n",
       "    </tr>\n",
       "    <tr>\n",
       "      <th>3088</th>\n",
       "      <td>5122</td>\n",
       "      <td>32354519</td>\n",
       "      <td>40.545478</td>\n",
       "      <td>-74.164173</td>\n",
       "      <td>SingleFamily</td>\n",
       "      <td>2.0</td>\n",
       "      <td>4</td>\n",
       "      <td>10312</td>\n",
       "      <td>0.739609</td>\n",
       "      <td>4800</td>\n",
       "      <td>489</td>\n",
       "      <td>40.544601</td>\n",
       "      <td>-74.164570</td>\n",
       "      <td>SI</td>\n",
       "      <td>0.064100</td>\n",
       "      <td>0.000154</td>\n",
       "    </tr>\n",
       "  </tbody>\n",
       "</table>\n",
       "</div>"
      ],
      "text/plain": [
       "      Unnamed: 0      zpid   latitude  longitude       usecode  bathrooms  \\\n",
       "2944        4946  32324455  40.596302 -74.089586  SingleFamily        0.0   \n",
       "2945        4947  32324506  40.596277 -74.088480  SingleFamily        0.0   \n",
       "2946        4948  32324507  40.596303 -74.089009  SingleFamily        0.0   \n",
       "3087        5121  32354518  40.545262 -74.164127  SingleFamily        2.0   \n",
       "3088        5122  32354519  40.545478 -74.164173  SingleFamily        2.0   \n",
       "\n",
       "      bedrooms zipcode     price  lotSizeSqFt  Nearest Station Index  \\\n",
       "2944         0   10304  0.844092         9800                    481   \n",
       "2945         0   10304  0.628001         5999                    481   \n",
       "2946         0   10304  0.765448         8400                    481   \n",
       "3087         3   10312  0.550732         6000                    489   \n",
       "3088         4   10312  0.739609         4800                    489   \n",
       "\n",
       "      Nearest Station Lat  Nearest Station Lon Borough  distance_miles  \\\n",
       "2944            40.596612           -74.087368      SI        0.118356   \n",
       "2945            40.596612           -74.087368      SI        0.062783   \n",
       "2946            40.596612           -74.087368      SI        0.088728   \n",
       "3087            40.544601           -74.164570      SI        0.051268   \n",
       "3088            40.544601           -74.164570      SI        0.064100   \n",
       "\n",
       "      price per sqft  \n",
       "2944        0.000086  \n",
       "2945        0.000105  \n",
       "2946        0.000091  \n",
       "3087        0.000092  \n",
       "3088        0.000154  "
      ]
     },
     "execution_count": 24,
     "metadata": {},
     "output_type": "execute_result"
    }
   ],
   "source": [
    "si_home = df[df['Borough'] == 'SI']\n",
    "print(si_home.shape)\n",
    "si_home.head()\n"
   ]
  },
  {
   "cell_type": "code",
   "execution_count": 25,
   "metadata": {},
   "outputs": [
    {
     "data": {
      "text/plain": [
       "<matplotlib.collections.PathCollection at 0x61c55f6d8>"
      ]
     },
     "execution_count": 25,
     "metadata": {},
     "output_type": "execute_result"
    },
    {
     "data": {
      "image/png": "[encoded data removed]",
      "text/plain": [
       "<Figure size 432x288 with 1 Axes>"
      ]
     },
     "metadata": {
      "needs_background": "light"
     },
     "output_type": "display_data"
    }
   ],
   "source": [
    "plt.scatter(si_home['longitude'], si_home['price per sqft'])"
   ]
  },
  {
   "cell_type": "code",
   "execution_count": 26,
   "metadata": {},
   "outputs": [
    {
     "data": {
      "text/html": [
       "<div>\n",
       "<style scoped>\n",
       "    .dataframe tbody tr th:only-of-type {\n",
       "        vertical-align: middle;\n",
       "    }\n",
       "\n",
       "    .dataframe tbody tr th {\n",
       "        vertical-align: top;\n",
       "    }\n",
       "\n",
       "    .dataframe thead th {\n",
       "        text-align: right;\n",
       "    }\n",
       "</style>\n",
       "<table border=\"1\" class=\"dataframe\">\n",
       "  <thead>\n",
       "    <tr style=\"text-align: right;\">\n",
       "      <th></th>\n",
       "      <th>Unnamed: 0</th>\n",
       "      <th>zpid</th>\n",
       "      <th>latitude</th>\n",
       "      <th>longitude</th>\n",
       "      <th>bathrooms</th>\n",
       "      <th>bedrooms</th>\n",
       "      <th>zipcode</th>\n",
       "      <th>price</th>\n",
       "      <th>lotSizeSqFt</th>\n",
       "      <th>Nearest Station Index</th>\n",
       "      <th>Nearest Station Lat</th>\n",
       "      <th>Nearest Station Lon</th>\n",
       "      <th>Borough</th>\n",
       "      <th>distance_miles</th>\n",
       "      <th>price per sqft</th>\n",
       "    </tr>\n",
       "    <tr>\n",
       "      <th>usecode</th>\n",
       "      <th></th>\n",
       "      <th></th>\n",
       "      <th></th>\n",
       "      <th></th>\n",
       "      <th></th>\n",
       "      <th></th>\n",
       "      <th></th>\n",
       "      <th></th>\n",
       "      <th></th>\n",
       "      <th></th>\n",
       "      <th></th>\n",
       "      <th></th>\n",
       "      <th></th>\n",
       "      <th></th>\n",
       "      <th></th>\n",
       "    </tr>\n",
       "  </thead>\n",
       "  <tbody>\n",
       "    <tr>\n",
       "      <th>Duplex</th>\n",
       "      <td>21</td>\n",
       "      <td>21</td>\n",
       "      <td>21</td>\n",
       "      <td>21</td>\n",
       "      <td>21</td>\n",
       "      <td>21</td>\n",
       "      <td>21</td>\n",
       "      <td>21</td>\n",
       "      <td>21</td>\n",
       "      <td>21</td>\n",
       "      <td>21</td>\n",
       "      <td>21</td>\n",
       "      <td>21</td>\n",
       "      <td>21</td>\n",
       "      <td>21</td>\n",
       "    </tr>\n",
       "    <tr>\n",
       "      <th>MultiFamily2To4</th>\n",
       "      <td>7</td>\n",
       "      <td>7</td>\n",
       "      <td>7</td>\n",
       "      <td>7</td>\n",
       "      <td>7</td>\n",
       "      <td>7</td>\n",
       "      <td>7</td>\n",
       "      <td>7</td>\n",
       "      <td>7</td>\n",
       "      <td>7</td>\n",
       "      <td>7</td>\n",
       "      <td>7</td>\n",
       "      <td>7</td>\n",
       "      <td>7</td>\n",
       "      <td>7</td>\n",
       "    </tr>\n",
       "    <tr>\n",
       "      <th>SingleFamily</th>\n",
       "      <td>59</td>\n",
       "      <td>59</td>\n",
       "      <td>59</td>\n",
       "      <td>59</td>\n",
       "      <td>59</td>\n",
       "      <td>59</td>\n",
       "      <td>59</td>\n",
       "      <td>59</td>\n",
       "      <td>59</td>\n",
       "      <td>59</td>\n",
       "      <td>59</td>\n",
       "      <td>59</td>\n",
       "      <td>59</td>\n",
       "      <td>59</td>\n",
       "      <td>59</td>\n",
       "    </tr>\n",
       "  </tbody>\n",
       "</table>\n",
       "</div>"
      ],
      "text/plain": [
       "                 Unnamed: 0  zpid  latitude  longitude  bathrooms  bedrooms  \\\n",
       "usecode                                                                       \n",
       "Duplex                   21    21        21         21         21        21   \n",
       "MultiFamily2To4           7     7         7          7          7         7   \n",
       "SingleFamily             59    59        59         59         59        59   \n",
       "\n",
       "                 zipcode  price  lotSizeSqFt  Nearest Station Index  \\\n",
       "usecode                                                               \n",
       "Duplex                21     21           21                     21   \n",
       "MultiFamily2To4        7      7            7                      7   \n",
       "SingleFamily          59     59           59                     59   \n",
       "\n",
       "                 Nearest Station Lat  Nearest Station Lon  Borough  \\\n",
       "usecode                                                              \n",
       "Duplex                            21                   21       21   \n",
       "MultiFamily2To4                    7                    7        7   \n",
       "SingleFamily                      59                   59       59   \n",
       "\n",
       "                 distance_miles  price per sqft  \n",
       "usecode                                          \n",
       "Duplex                       21              21  \n",
       "MultiFamily2To4               7               7  \n",
       "SingleFamily                 59              59  "
      ]
     },
     "execution_count": 26,
     "metadata": {},
     "output_type": "execute_result"
    }
   ],
   "source": [
    "type_gp = si_home.groupby('usecode')\n",
    "type_gp.count()\n"
   ]
  },
  {
   "cell_type": "code",
   "execution_count": 27,
   "metadata": {},
   "outputs": [
    {
     "data": {
      "text/plain": [
       "[]"
      ]
     },
     "execution_count": 27,
     "metadata": {},
     "output_type": "execute_result"
    }
   ],
   "source": [
    "si_home_station = si_home.groupby('Nearest Station Index')\n",
    "\n",
    "# only analysis home number > 20 around a station.\n",
    "si_sta_index = [key for key,val in si_home_station['zpid'].count().iteritems() if val > 30]\n",
    "si_sta_index\n"
   ]
  },
  {
   "cell_type": "code",
   "execution_count": 28,
   "metadata": {},
   "outputs": [
    {
     "data": {
      "text/plain": [
       "Nearest Station Index\n",
       "479    16\n",
       "480     1\n",
       "481     7\n",
       "482    19\n",
       "485     2\n",
       "489    15\n",
       "490     3\n",
       "492     8\n",
       "493    15\n",
       "496     1\n",
       "Name: zpid, dtype: int64"
      ]
     },
     "execution_count": 28,
     "metadata": {},
     "output_type": "execute_result"
    }
   ],
   "source": [
    "si_home_station['zpid'].count()\n"
   ]
  },
  {
   "cell_type": "code",
   "execution_count": 29,
   "metadata": {},
   "outputs": [
    {
     "data": {
      "text/html": [
       "<div>\n",
       "<style scoped>\n",
       "    .dataframe tbody tr th:only-of-type {\n",
       "        vertical-align: middle;\n",
       "    }\n",
       "\n",
       "    .dataframe tbody tr th {\n",
       "        vertical-align: top;\n",
       "    }\n",
       "\n",
       "    .dataframe thead th {\n",
       "        text-align: right;\n",
       "    }\n",
       "</style>\n",
       "<table border=\"1\" class=\"dataframe\">\n",
       "  <thead>\n",
       "    <tr style=\"text-align: right;\">\n",
       "      <th></th>\n",
       "      <th>Unnamed: 0</th>\n",
       "      <th>zpid</th>\n",
       "      <th>latitude</th>\n",
       "      <th>longitude</th>\n",
       "      <th>usecode</th>\n",
       "      <th>bathrooms</th>\n",
       "      <th>bedrooms</th>\n",
       "      <th>zipcode</th>\n",
       "      <th>price</th>\n",
       "      <th>lotSizeSqFt</th>\n",
       "      <th>Nearest Station Index</th>\n",
       "      <th>Nearest Station Lat</th>\n",
       "      <th>Nearest Station Lon</th>\n",
       "      <th>Borough</th>\n",
       "      <th>distance_miles</th>\n",
       "      <th>price per sqft</th>\n",
       "    </tr>\n",
       "  </thead>\n",
       "  <tbody>\n",
       "  </tbody>\n",
       "</table>\n",
       "</div>"
      ],
      "text/plain": [
       "Empty DataFrame\n",
       "Columns: [Unnamed: 0, zpid, latitude, longitude, usecode, bathrooms, bedrooms, zipcode, price, lotSizeSqFt, Nearest Station Index, Nearest Station Lat, Nearest Station Lon, Borough, distance_miles, price per sqft]\n",
       "Index: []"
      ]
     },
     "execution_count": 29,
     "metadata": {},
     "output_type": "execute_result"
    }
   ],
   "source": [
    "df = df.loc[df['Nearest Station Index'].isin(si_sta_index)]\n",
    "df\n"
   ]
  },
  {
   "cell_type": "code",
   "execution_count": 30,
   "metadata": {
    "scrolled": true
   },
   "outputs": [
    {
     "data": {
      "text/html": [
       "<div>\n",
       "<style scoped>\n",
       "    .dataframe tbody tr th:only-of-type {\n",
       "        vertical-align: middle;\n",
       "    }\n",
       "\n",
       "    .dataframe tbody tr th {\n",
       "        vertical-align: top;\n",
       "    }\n",
       "\n",
       "    .dataframe thead th {\n",
       "        text-align: right;\n",
       "    }\n",
       "</style>\n",
       "<table border=\"1\" class=\"dataframe\">\n",
       "  <thead>\n",
       "    <tr style=\"text-align: right;\">\n",
       "      <th></th>\n",
       "      <th>Unnamed: 0</th>\n",
       "      <th>zpid</th>\n",
       "      <th>latitude</th>\n",
       "      <th>longitude</th>\n",
       "      <th>usecode</th>\n",
       "      <th>bathrooms</th>\n",
       "      <th>bedrooms</th>\n",
       "      <th>zipcode</th>\n",
       "      <th>price</th>\n",
       "      <th>lotSizeSqFt</th>\n",
       "      <th>Nearest Station Index</th>\n",
       "      <th>Nearest Station Lat</th>\n",
       "      <th>Nearest Station Lon</th>\n",
       "      <th>Borough</th>\n",
       "      <th>distance_miles</th>\n",
       "      <th>price per sqft</th>\n",
       "    </tr>\n",
       "  </thead>\n",
       "  <tbody>\n",
       "  </tbody>\n",
       "</table>\n",
       "</div>"
      ],
      "text/plain": [
       "Empty DataFrame\n",
       "Columns: [Unnamed: 0, zpid, latitude, longitude, usecode, bathrooms, bedrooms, zipcode, price, lotSizeSqFt, Nearest Station Index, Nearest Station Lat, Nearest Station Lon, Borough, distance_miles, price per sqft]\n",
       "Index: []"
      ]
     },
     "execution_count": 30,
     "metadata": {},
     "output_type": "execute_result"
    }
   ],
   "source": [
    "singleFamily = si_home[(si_home['usecode'] == 'Condominium')]\n",
    "singleFamily\n"
   ]
  },
  {
   "cell_type": "code",
   "execution_count": 31,
   "metadata": {},
   "outputs": [
    {
     "data": {
      "image/png": "[encoded data removed]",
      "text/plain": [
       "<Figure size 432x288 with 1 Axes>"
      ]
     },
     "metadata": {
      "needs_background": "light"
     },
     "output_type": "display_data"
    }
   ],
   "source": [
    "plt.scatter(singleFamily['longitude'], singleFamily['price per sqft'])\n",
    "plt.show()\n"
   ]
  },
  {
   "cell_type": "code",
   "execution_count": 32,
   "metadata": {
    "scrolled": true
   },
   "outputs": [
    {
     "data": {
      "application/vnd.jupyter.widget-view+json": {
       "model_id": "84293b419561444bb7ff6eec41676d92",
       "version_major": 2,
       "version_minor": 0
      },
      "text/plain": [
       "Figure(layout=FigureLayout(height='420px'))"
      ]
     },
     "metadata": {},
     "output_type": "display_data"
    }
   ],
   "source": [
    "mta = mta[mta['Borough'] == 'SI']\n",
    "station_layer = gmaps.symbol_layer(\n",
    "    mta[[\"GTFS Latitude\", \"GTFS Longitude\"]], fill_color='rgba(0, 150, 0, 0.4)',\n",
    "    stroke_color='rgba(0, 0, 150, 0.4)', scale=5,\n",
    ")\n",
    "\n",
    "home_layer = gmaps.symbol_layer(\n",
    "    df[['latitude', 'longitude']], fill_color='rgba(150, 0, 0, 0.4)',\n",
    "    stroke_color='rgba(150, 0, 0, 0.4)', scale=1,\n",
    ")\n",
    "\n",
    "fig = gmaps.figure()\n",
    "fig.add_layer(station_layer)\n",
    "fig.add_layer(home_layer)\n",
    "\n",
    "fig\n"
   ]
  },
  {
   "cell_type": "code",
   "execution_count": null,
   "metadata": {},
   "outputs": [],
   "source": []
  }
 ],
 "metadata": {
  "kernelspec": {
   "display_name": "Python 3",
   "language": "python",
   "name": "python3"
  },
  "language_info": {
   "codemirror_mode": {
    "name": "ipython",
    "version": 3
   },
   "file_extension": ".py",
   "mimetype": "text/x-python",
   "name": "python",
   "nbconvert_exporter": "python",
   "pygments_lexer": "ipython3",
   "version": "3.7.1"
  }
 },
 "nbformat": 4,
 "nbformat_minor": 2
}
